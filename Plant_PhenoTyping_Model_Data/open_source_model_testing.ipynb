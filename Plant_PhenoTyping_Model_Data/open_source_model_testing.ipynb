{
 "cells": [
  {
   "cell_type": "code",
   "execution_count": 2,
   "metadata": {
    "id": "-4VbYlo5P5MO"
   },
   "outputs": [
    {
     "name": "stderr",
     "output_type": "stream",
     "text": [
      "Using TensorFlow backend.\n"
     ]
    }
   ],
   "source": [
    "import numpy as np\n",
    "from keras.preprocessing import image\n",
    "from tensorflow.python.keras.models import load_model, model_from_json\n",
    "from tensorflow.python.keras.initializers import glorot_uniform\n",
    "from keras.utils import CustomObjectScope\n",
    "from keras import backend as K"
   ]
  },
  {
   "cell_type": "code",
   "execution_count": 3,
   "metadata": {
    "id": "Rbgw9k1aP5MP"
   },
   "outputs": [],
   "source": [
    "import tensorflow"
   ]
  },
  {
   "cell_type": "code",
   "execution_count": 4,
   "metadata": {
    "id": "3DKlfQLXP5MP"
   },
   "outputs": [
    {
     "ename": "AttributeError",
     "evalue": "module 'tensorflow' has no attribute 'VERSION'",
     "output_type": "error",
     "traceback": [
      "\u001b[0;31m---------------------------------------------------------------------------\u001b[0m",
      "\u001b[0;31mAttributeError\u001b[0m                            Traceback (most recent call last)",
      "\u001b[0;32m<ipython-input-4-1e0801a2b54a>\u001b[0m in \u001b[0;36m<module>\u001b[0;34m\u001b[0m\n\u001b[0;32m----> 1\u001b[0;31m \u001b[0mtensorflow\u001b[0m\u001b[0;34m.\u001b[0m\u001b[0mVERSION\u001b[0m\u001b[0;34m\u001b[0m\u001b[0;34m\u001b[0m\u001b[0m\n\u001b[0m",
      "\u001b[0;31mAttributeError\u001b[0m: module 'tensorflow' has no attribute 'VERSION'"
     ]
    }
   ],
   "source": [
    "tensorflow.VERSION"
   ]
  },
  {
   "cell_type": "code",
   "execution_count": 5,
   "metadata": {
    "id": "uItFm3S-P5MP"
   },
   "outputs": [
    {
     "data": {
      "text/plain": [
       "['AggregationMethod',\n",
       " 'Assert',\n",
       " 'CriticalSection',\n",
       " 'DType',\n",
       " 'DeviceSpec',\n",
       " 'GradientTape',\n",
       " 'Graph',\n",
       " 'IndexedSlices',\n",
       " 'IndexedSlicesSpec',\n",
       " 'Module',\n",
       " 'Operation',\n",
       " 'OptionalSpec',\n",
       " 'RaggedTensor',\n",
       " 'RaggedTensorSpec',\n",
       " 'RegisterGradient',\n",
       " 'SparseTensor',\n",
       " 'SparseTensorSpec',\n",
       " 'Tensor',\n",
       " 'TensorArray',\n",
       " 'TensorArraySpec',\n",
       " 'TensorShape',\n",
       " 'TensorSpec',\n",
       " 'TypeSpec',\n",
       " 'UnconnectedGradients',\n",
       " 'Variable',\n",
       " 'VariableAggregation',\n",
       " 'VariableSynchronization',\n",
       " '_LazyLoader',\n",
       " '__builtins__',\n",
       " '__cached__',\n",
       " '__compiler_version__',\n",
       " '__cxx11_abi_flag__',\n",
       " '__doc__',\n",
       " '__file__',\n",
       " '__git_version__',\n",
       " '__loader__',\n",
       " '__monolithic_build__',\n",
       " '__name__',\n",
       " '__package__',\n",
       " '__path__',\n",
       " '__spec__',\n",
       " '__version__',\n",
       " '_absolute_import',\n",
       " '_api',\n",
       " '_division',\n",
       " '_forward_module',\n",
       " '_importlib',\n",
       " '_m',\n",
       " '_print_function',\n",
       " '_root_estimator',\n",
       " '_sys',\n",
       " '_top_level_modules',\n",
       " '_types',\n",
       " 'abs',\n",
       " 'acos',\n",
       " 'acosh',\n",
       " 'add',\n",
       " 'add_n',\n",
       " 'argmax',\n",
       " 'argmin',\n",
       " 'argsort',\n",
       " 'as_dtype',\n",
       " 'as_string',\n",
       " 'asin',\n",
       " 'asinh',\n",
       " 'assert_equal',\n",
       " 'assert_greater',\n",
       " 'assert_less',\n",
       " 'assert_rank',\n",
       " 'atan',\n",
       " 'atan2',\n",
       " 'atanh',\n",
       " 'audio',\n",
       " 'autograph',\n",
       " 'batch_to_space',\n",
       " 'bfloat16',\n",
       " 'bitcast',\n",
       " 'bitwise',\n",
       " 'bool',\n",
       " 'boolean_mask',\n",
       " 'broadcast_dynamic_shape',\n",
       " 'broadcast_static_shape',\n",
       " 'broadcast_to',\n",
       " 'case',\n",
       " 'cast',\n",
       " 'clip_by_global_norm',\n",
       " 'clip_by_norm',\n",
       " 'clip_by_value',\n",
       " 'compat',\n",
       " 'complex',\n",
       " 'complex128',\n",
       " 'complex64',\n",
       " 'concat',\n",
       " 'cond',\n",
       " 'config',\n",
       " 'constant',\n",
       " 'constant_initializer',\n",
       " 'control_dependencies',\n",
       " 'convert_to_tensor',\n",
       " 'cos',\n",
       " 'cosh',\n",
       " 'cumsum',\n",
       " 'custom_gradient',\n",
       " 'data',\n",
       " 'debugging',\n",
       " 'device',\n",
       " 'distribute',\n",
       " 'divide',\n",
       " 'double',\n",
       " 'dtypes',\n",
       " 'dynamic_partition',\n",
       " 'dynamic_stitch',\n",
       " 'edit_distance',\n",
       " 'einsum',\n",
       " 'ensure_shape',\n",
       " 'equal',\n",
       " 'errors',\n",
       " 'estimator',\n",
       " 'examples',\n",
       " 'executing_eagerly',\n",
       " 'exp',\n",
       " 'expand_dims',\n",
       " 'experimental',\n",
       " 'extract_volume_patches',\n",
       " 'eye',\n",
       " 'feature_column',\n",
       " 'fill',\n",
       " 'fingerprint',\n",
       " 'float16',\n",
       " 'float32',\n",
       " 'float64',\n",
       " 'floor',\n",
       " 'foldl',\n",
       " 'foldr',\n",
       " 'function',\n",
       " 'gather',\n",
       " 'gather_nd',\n",
       " 'get_logger',\n",
       " 'get_static_value',\n",
       " 'grad_pass_through',\n",
       " 'gradients',\n",
       " 'graph_util',\n",
       " 'greater',\n",
       " 'greater_equal',\n",
       " 'group',\n",
       " 'guarantee_const',\n",
       " 'half',\n",
       " 'hessians',\n",
       " 'histogram_fixed_width',\n",
       " 'histogram_fixed_width_bins',\n",
       " 'identity',\n",
       " 'identity_n',\n",
       " 'image',\n",
       " 'import_graph_def',\n",
       " 'init_scope',\n",
       " 'initializers',\n",
       " 'int16',\n",
       " 'int32',\n",
       " 'int64',\n",
       " 'int8',\n",
       " 'io',\n",
       " 'is_tensor',\n",
       " 'keras',\n",
       " 'less',\n",
       " 'less_equal',\n",
       " 'linalg',\n",
       " 'linspace',\n",
       " 'lite',\n",
       " 'load_library',\n",
       " 'load_op_library',\n",
       " 'logical_and',\n",
       " 'logical_not',\n",
       " 'logical_or',\n",
       " 'lookup',\n",
       " 'losses',\n",
       " 'make_ndarray',\n",
       " 'make_tensor_proto',\n",
       " 'map_fn',\n",
       " 'math',\n",
       " 'matmul',\n",
       " 'matrix_square_root',\n",
       " 'maximum',\n",
       " 'meshgrid',\n",
       " 'metrics',\n",
       " 'minimum',\n",
       " 'multiply',\n",
       " 'name_scope',\n",
       " 'negative',\n",
       " 'nest',\n",
       " 'newaxis',\n",
       " 'nn',\n",
       " 'no_gradient',\n",
       " 'no_op',\n",
       " 'nondifferentiable_batch_function',\n",
       " 'norm',\n",
       " 'not_equal',\n",
       " 'numpy_function',\n",
       " 'one_hot',\n",
       " 'ones',\n",
       " 'ones_initializer',\n",
       " 'ones_like',\n",
       " 'optimizers',\n",
       " 'pad',\n",
       " 'parallel_stack',\n",
       " 'pow',\n",
       " 'print',\n",
       " 'py_function',\n",
       " 'qint16',\n",
       " 'qint32',\n",
       " 'qint8',\n",
       " 'quantization',\n",
       " 'queue',\n",
       " 'quint16',\n",
       " 'quint8',\n",
       " 'ragged',\n",
       " 'random',\n",
       " 'random_normal_initializer',\n",
       " 'random_uniform_initializer',\n",
       " 'range',\n",
       " 'rank',\n",
       " 'raw_ops',\n",
       " 'realdiv',\n",
       " 'recompute_grad',\n",
       " 'reduce_all',\n",
       " 'reduce_any',\n",
       " 'reduce_logsumexp',\n",
       " 'reduce_max',\n",
       " 'reduce_mean',\n",
       " 'reduce_min',\n",
       " 'reduce_prod',\n",
       " 'reduce_sum',\n",
       " 'register_tensor_conversion_function',\n",
       " 'required_space_to_batch_paddings',\n",
       " 'reshape',\n",
       " 'resource',\n",
       " 'reverse',\n",
       " 'reverse_sequence',\n",
       " 'roll',\n",
       " 'round',\n",
       " 'saturate_cast',\n",
       " 'saved_model',\n",
       " 'scalar_mul',\n",
       " 'scan',\n",
       " 'scatter_nd',\n",
       " 'searchsorted',\n",
       " 'sequence_mask',\n",
       " 'sets',\n",
       " 'shape',\n",
       " 'shape_n',\n",
       " 'sigmoid',\n",
       " 'sign',\n",
       " 'signal',\n",
       " 'sin',\n",
       " 'sinh',\n",
       " 'size',\n",
       " 'slice',\n",
       " 'sort',\n",
       " 'space_to_batch',\n",
       " 'space_to_batch_nd',\n",
       " 'sparse',\n",
       " 'split',\n",
       " 'sqrt',\n",
       " 'square',\n",
       " 'squeeze',\n",
       " 'stack',\n",
       " 'stop_gradient',\n",
       " 'strided_slice',\n",
       " 'string',\n",
       " 'strings',\n",
       " 'subtract',\n",
       " 'summary',\n",
       " 'switch_case',\n",
       " 'sysconfig',\n",
       " 'tan',\n",
       " 'tanh',\n",
       " 'tensor_scatter_nd_add',\n",
       " 'tensor_scatter_nd_sub',\n",
       " 'tensor_scatter_nd_update',\n",
       " 'tensordot',\n",
       " 'test',\n",
       " 'tile',\n",
       " 'timestamp',\n",
       " 'tpu',\n",
       " 'train',\n",
       " 'transpose',\n",
       " 'truediv',\n",
       " 'truncatediv',\n",
       " 'truncatemod',\n",
       " 'tuple',\n",
       " 'uint16',\n",
       " 'uint32',\n",
       " 'uint64',\n",
       " 'uint8',\n",
       " 'unique',\n",
       " 'unique_with_counts',\n",
       " 'unravel_index',\n",
       " 'unstack',\n",
       " 'variable_creator_scope',\n",
       " 'variant',\n",
       " 'vectorized_map',\n",
       " 'version',\n",
       " 'where',\n",
       " 'while_loop',\n",
       " 'xla',\n",
       " 'zeros',\n",
       " 'zeros_initializer',\n",
       " 'zeros_like']"
      ]
     },
     "execution_count": 5,
     "metadata": {},
     "output_type": "execute_result"
    }
   ],
   "source": [
    "dir(tensorflow)"
   ]
  },
  {
   "cell_type": "code",
   "execution_count": 6,
   "metadata": {
    "id": "TSj_FiEAP5MQ"
   },
   "outputs": [],
   "source": [
    "model = 'model.json'\n",
    "weights = 'weights_model.h5'"
   ]
  },
  {
   "cell_type": "code",
   "execution_count": 7,
   "metadata": {
    "id": "b1qjwaRmP5MQ"
   },
   "outputs": [],
   "source": [
    "K.reset_uids()"
   ]
  },
  {
   "cell_type": "code",
   "execution_count": 8,
   "metadata": {
    "id": "OxdQmZaLP5MQ"
   },
   "outputs": [],
   "source": [
    "with CustomObjectScope({'GlorotUniform': glorot_uniform()}):\n",
    "            with open(model, 'r') as f:\n",
    "                model = model_from_json(f.read())\n",
    "                model.load_weights(weights)"
   ]
  },
  {
   "cell_type": "code",
   "execution_count": 9,
   "metadata": {
    "id": "JEq0JPjkP5MQ"
   },
   "outputs": [],
   "source": [
    "img = image.load_img('test_img/D1bS1 (1).jpg', target_size=(299, 299))"
   ]
  },
  {
   "cell_type": "code",
   "execution_count": 10,
   "metadata": {
    "id": "RTUfLQwlP5MQ"
   },
   "outputs": [],
   "source": [
    "img = image.img_to_array(img)"
   ]
  },
  {
   "cell_type": "code",
   "execution_count": 11,
   "metadata": {
    "id": "E_Sgw61TP5MQ"
   },
   "outputs": [
    {
     "name": "stdout",
     "output_type": "stream",
     "text": [
      "(1, 299, 299, 3)\n"
     ]
    }
   ],
   "source": [
    "img /= 255\n",
    "img = np.expand_dims(img, axis=0)\n",
    "print(img.shape)\n"
   ]
  },
  {
   "cell_type": "code",
   "execution_count": 12,
   "metadata": {
    "id": "tlQZdoUgP5MQ"
   },
   "outputs": [],
   "source": [
    "result = model.predict(img)"
   ]
  },
  {
   "cell_type": "code",
   "execution_count": 13,
   "metadata": {},
   "outputs": [
    {
     "name": "stdout",
     "output_type": "stream",
     "text": [
      "[[2.4923773]]\n"
     ]
    }
   ],
   "source": [
    "print(result)"
   ]
  },
  {
   "cell_type": "code",
   "execution_count": 14,
   "metadata": {
    "id": "LWM56vjQP5MQ"
   },
   "outputs": [
    {
     "data": {
      "text/plain": [
       "2.4923773"
      ]
     },
     "execution_count": 14,
     "metadata": {},
     "output_type": "execute_result"
    }
   ],
   "source": [
    "result.flatten()[0]"
   ]
  },
  {
   "cell_type": "code",
   "execution_count": 15,
   "metadata": {
    "id": "IY8Z-egcP5MQ"
   },
   "outputs": [],
   "source": [
    "def process_image(image_path):\n",
    "    img = image.load_img(image_path, target_size=(299, 299))\n",
    "    img = image.img_to_array(img)\n",
    "    img /= 255\n",
    "    img = np.expand_dims(img, axis=0)\n",
    "    result = model.predict(img)\n",
    "    print()\n",
    "    print('=======================================')\n",
    "    print('image path: {} have number of leafs: {}'.format(image_path,\n",
    "                                                          result.flatten()[0]))\n",
    "    print('=======================================') \n",
    "    "
   ]
  },
  {
   "cell_type": "code",
   "execution_count": 16,
   "metadata": {
    "id": "o2BnEeeYP5MQ"
   },
   "outputs": [],
   "source": [
    "import os"
   ]
  },
  {
   "cell_type": "code",
   "execution_count": 17,
   "metadata": {
    "id": "dnN5nkcNP5MQ"
   },
   "outputs": [
    {
     "data": {
      "text/plain": [
       "7"
      ]
     },
     "execution_count": 17,
     "metadata": {},
     "output_type": "execute_result"
    }
   ],
   "source": [
    "mylist=os.listdir('test_img/')\n",
    "len(mylist)"
   ]
  },
  {
   "cell_type": "code",
   "execution_count": 18,
   "metadata": {
    "id": "Nq-FvEHyP5MR"
   },
   "outputs": [
    {
     "name": "stdout",
     "output_type": "stream",
     "text": [
      "\n",
      "=======================================\n",
      "image path: test_img/D10bS1 (1).jpg have number of leafs: 6.658905506134033\n",
      "=======================================\n",
      "\n",
      "=======================================\n",
      "image path: test_img/D4bS1 (1).jpg have number of leafs: 5.390771865844727\n",
      "=======================================\n",
      "\n",
      "=======================================\n",
      "image path: test_img/D1bS1 (1).jpg have number of leafs: 2.492377281188965\n",
      "=======================================\n",
      "\n",
      "=======================================\n",
      "image path: test_img/D16bS1 (1).jpg have number of leafs: 8.419461250305176\n",
      "=======================================\n",
      "\n",
      "=======================================\n",
      "image path: test_img/D13bS1 (1).jpg have number of leafs: 6.436365604400635\n",
      "=======================================\n",
      "\n",
      "=======================================\n",
      "image path: test_img/D7bS1 (1).jpg have number of leafs: 6.9492573738098145\n",
      "=======================================\n",
      "\n",
      "=======================================\n",
      "image path: test_img/D19bS1 (1).jpg have number of leafs: 8.539482116699219\n",
      "=======================================\n"
     ]
    }
   ],
   "source": [
    "for i in os.listdir('test_img/'):\n",
    "    process_image('test_img/'+i)"
   ]
  },
  {
   "cell_type": "code",
   "execution_count": 19,
   "metadata": {},
   "outputs": [],
   "source": [
    "def transform_img_fn(path_list):\n",
    "    out = []\n",
    "   # cdef np.ndarray[double] vola = np.empty(7, dtype=float)\n",
    "    for img_path in os.listdir('test_img/'):\n",
    "        img = image.load_img('test_img/'+img_path, target_size=(299, 299))\n",
    "        x = image.img_to_array(img) / 255\n",
    "        x = np.expand_dims(x, axis=0)\n",
    "        x = x.astype('double')\n",
    "       # x = np.expand_dims(x, axis=1)\n",
    "        out.append(x)\n",
    "    return np.vstack(out)\n",
    "\n",
    "check_image = transform_img_fn(os.listdir('test_img/'))"
   ]
  },
  {
   "cell_type": "code",
   "execution_count": 20,
   "metadata": {},
   "outputs": [
    {
     "data": {
      "text/plain": [
       "(299, 299, 3)"
      ]
     },
     "execution_count": 20,
     "metadata": {},
     "output_type": "execute_result"
    }
   ],
   "source": [
    "check_image[0].shape\n"
   ]
  },
  {
   "cell_type": "code",
   "execution_count": 21,
   "metadata": {},
   "outputs": [],
   "source": [
    "from lime import lime_image\n",
    "import time"
   ]
  },
  {
   "cell_type": "code",
   "execution_count": 22,
   "metadata": {},
   "outputs": [],
   "source": [
    "explainer = lime_image.LimeImageExplainer()"
   ]
  },
  {
   "cell_type": "code",
   "execution_count": 23,
   "metadata": {},
   "outputs": [],
   "source": [
    "import matplotlib.pyplot as plt\n",
    "%matplotlib inline"
   ]
  },
  {
   "cell_type": "code",
   "execution_count": 25,
   "metadata": {},
   "outputs": [
    {
     "data": {
      "application/vnd.jupyter.widget-view+json": {
       "model_id": "7d7581d9add1479d82bba11d02250eb5",
       "version_major": 2,
       "version_minor": 0
      },
      "text/plain": [
       "HBox(children=(HTML(value=''), FloatProgress(value=0.0), HTML(value='')))"
      ]
     },
     "metadata": {},
     "output_type": "display_data"
    },
    {
     "name": "stdout",
     "output_type": "stream",
     "text": [
      "\n",
      "(299, 299, 3)\n"
     ]
    },
    {
     "data": {
      "text/plain": [
       "<matplotlib.image.AxesImage at 0x7fd7327521d0>"
      ]
     },
     "execution_count": 25,
     "metadata": {},
     "output_type": "execute_result"
    },
    {
     "data": {
      "image/png": "[encoded data removed]",
      "text/plain": [
       "<Figure size 432x288 with 1 Axes>"
      ]
     },
     "metadata": {
      "needs_background": "light"
     },
     "output_type": "display_data"
    }
   ],
   "source": [
    "tmp = time.time()\n",
    "# Hide color is the color for a superpixel turned OFF. Alternatively, if it is NONE, the superpixel will be replaced by the average of its pixels\n",
    "explanation = explainer.explain_instance(check_image[0] , model.predict, top_labels=5, hide_color=0, num_samples=100)\n",
    "from skimage.segmentation import mark_boundaries\n",
    "\n",
    "temp, mask = explanation.get_image_and_mask(0, positive_only=False, num_features=50, hide_rest=True)\n",
    "test = mark_boundaries(temp, mask)\n",
    "\n",
    "print (test.shape)\n",
    "from PIL import Image\n",
    "img = Image.fromarray(check_image[1], 'RGB')\n",
    "img.save('out.png')\n",
    "\n",
    "\n",
    "plt.imshow(test)"
   ]
  },
  {
   "cell_type": "code",
   "execution_count": null,
   "metadata": {},
   "outputs": [],
   "source": []
  },
  {
   "cell_type": "code",
   "execution_count": null,
   "metadata": {},
   "outputs": [],
   "source": []
  },
  {
   "cell_type": "code",
   "execution_count": null,
   "metadata": {},
   "outputs": [],
   "source": []
  }
 ],
 "metadata": {
  "colab": {
   "name": "open source model testing.ipynb",
   "provenance": []
  },
  "kernelspec": {
   "display_name": "Python 3",
   "language": "python",
   "name": "python3"
  },
  "language_info": {
   "codemirror_mode": {
    "name": "ipython",
    "version": 3
   },
   "file_extension": ".py",
   "mimetype": "text/x-python",
   "name": "python",
   "nbconvert_exporter": "python",
   "pygments_lexer": "ipython3",
   "version": "3.7.9"
  }
 },
 "nbformat": 4,
 "nbformat_minor": 1
}
