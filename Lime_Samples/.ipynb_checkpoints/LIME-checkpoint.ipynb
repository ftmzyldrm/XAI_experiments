{
 "cells": [
  {
   "cell_type": "code",
   "execution_count": 3,
   "metadata": {},
   "outputs": [],
   "source": [
    "# @title Installing LIME\n",
    "try:\n",
    "  import lime\n",
    "except:\n",
    "  print(\"Installing LIME\")\n",
    "  !pip install lime"
   ]
  },
  {
   "cell_type": "code",
   "execution_count": 7,
   "metadata": {},
   "outputs": [],
   "source": [
    "# @title Importing modules\n",
    "from __future__ import print_function\n",
    "import lime\n",
    "#import sklearn\n",
    "import numpy as np\n",
    "\n",
    "import sklearn\n",
    "import sklearn.ensemble\n",
    "import sklearn.metrics\n",
    "from sklearn.ensemble import BaggingClassifier\n",
    "from sklearn.neighbors import KNeighborsClassifier\n",
    "from sklearn.ensemble import GradientBoostingClassifier\n",
    "from sklearn.tree import DecisionTreeClassifier\n",
    "from sklearn.ensemble import ExtraTreesClassifier\n",
    "\n"
   ]
  },
  {
   "cell_type": "code",
   "execution_count": 8,
   "metadata": {},
   "outputs": [],
   "source": [
    "# @title Retrieving newsgroups data\n",
    "from sklearn.datasets import fetch_20newsgroups"
   ]
  },
  {
   "cell_type": "code",
   "execution_count": 9,
   "metadata": {},
   "outputs": [],
   "source": [
    "categories = ['sci.electronics', 'sci.space']\n",
    "newsgroups_train = fetch_20newsgroups(subset='train',\n",
    "                                      categories=categories)\n",
    "newsgroups_test = fetch_20newsgroups(subset='test',\n",
    "                                     categories=categories)\n",
    "class_names = ['electronics', 'space']"
   ]
  },
  {
   "cell_type": "code",
   "execution_count": 10,
   "metadata": {},
   "outputs": [],
   "source": [
    "# @title Vectorizing\n",
    "vectorizer = sklearn.feature_extraction.text.TfidfVectorizer(\n",
    "    lowercase=False)\n",
    "train_vectors = vectorizer.fit_transform(newsgroups_train.data)\n",
    "test_vectors = vectorizer.transform(newsgroups_test.data)"
   ]
  },
  {
   "cell_type": "code",
   "execution_count": 11,
   "metadata": {},
   "outputs": [],
   "source": [
    "# @title AutoML experiment: Score measurement variables\n",
    "best = 0 # best classifier score\n",
    "\n"
   ]
  },
  {
   "cell_type": "code",
   "execution_count": 12,
   "metadata": {},
   "outputs": [],
   "source": [
    "clf = \"None\" # best classifier name "
   ]
  },
  {
   "cell_type": "code",
   "execution_count": 13,
   "metadata": {},
   "outputs": [],
   "source": [
    "# @title AutoML experiment: Random forest\n",
    "rf1 = sklearn.ensemble.RandomForestClassifier(n_estimators=500)\n",
    "rf1.fit(train_vectors, newsgroups_train.target)\n",
    "pred = rf1.predict(test_vectors)"
   ]
  },
  {
   "cell_type": "code",
   "execution_count": 14,
   "metadata": {},
   "outputs": [
    {
     "data": {
      "text/plain": [
       "array([0, 1, 0, 0, 0, 0, 1, 0, 0, 0])"
      ]
     },
     "execution_count": 14,
     "metadata": {},
     "output_type": "execute_result"
    }
   ],
   "source": [
    "newsgroups_test.target[:10]\n",
    "#array([0, 1, 1, 1, 0, 1, 1, 0, 0, 0])"
   ]
  },
  {
   "cell_type": "code",
   "execution_count": 15,
   "metadata": {},
   "outputs": [],
   "source": [
    "score1 = sklearn.metrics.f1_score(newsgroups_test.target,\n",
    "                                  pred, average='binary')"
   ]
  },
  {
   "cell_type": "code",
   "execution_count": 17,
   "metadata": {},
   "outputs": [
    {
     "name": "stdout",
     "output_type": "stream",
     "text": [
      "Score of Random Forest  0.9257294429708224\n"
     ]
    }
   ],
   "source": [
    "if score1 > best:\n",
    "  best = score1\n",
    "  clf = \"Random forest\"\n",
    "  print(\"Random forest has achieved the top score!\", score1)\n",
    "else:\n",
    "    print(\"Score of Random Forest \",score1)\n"
   ]
  },
  {
   "cell_type": "code",
   "execution_count": 18,
   "metadata": {},
   "outputs": [
    {
     "name": "stdout",
     "output_type": "stream",
     "text": [
      "Score of bagging 0.6438356164383562\n"
     ]
    }
   ],
   "source": [
    "# @title AutoML experiment: Bagging\n",
    "rf2 = BaggingClassifier(KNeighborsClassifier(),\n",
    "                        n_estimators=500, max_samples=0.5,\n",
    "                        max_features=0.5)\n",
    "rf2.fit(train_vectors, newsgroups_train.target)\n",
    "pred = rf2.predict(test_vectors)\n",
    "score2 = sklearn.metrics.f1_score(newsgroups_test.target,\n",
    "                                  pred, average='binary')\n",
    "if score2 > best:\n",
    "  best = score2\n",
    "  clf = \"Bagging\"\n",
    "  print(\"Bagging has achieved the top score!\", score2)\n",
    "else:\n",
    "  print(\"Score of bagging\", score2)"
   ]
  },
  {
   "cell_type": "code",
   "execution_count": 19,
   "metadata": {},
   "outputs": [
    {
     "name": "stdout",
     "output_type": "stream",
     "text": [
      "Score of gradient boosting 0.9009497964721846\n"
     ]
    }
   ],
   "source": [
    "# @title AutoML experiment: Gradient boosting\n",
    "rf3 = GradientBoostingClassifier(random_state=1, n_estimators=500)\n",
    "rf3.fit(train_vectors, newsgroups_train.target)\n",
    "pred = rf3.predict(test_vectors)\n",
    "score3 = sklearn.metrics.f1_score(newsgroups_test.target,\n",
    "                                  pred, average='binary')\n",
    "if score3 > best:\n",
    "  best = score3\n",
    "  clf = \"Gradient boosting\"\n",
    "  print(\"Gradient boosting has achieved the top score!\", score3)\n",
    "else:\n",
    "  print(\"Score of gradient boosting\", score3)"
   ]
  },
  {
   "cell_type": "code",
   "execution_count": 20,
   "metadata": {},
   "outputs": [],
   "source": [
    "# @title AutoML experiment: Decision tree\n",
    "rf4 = DecisionTreeClassifier(random_state=1)\n",
    "rf4.fit(train_vectors, newsgroups_train.target)\n",
    "pred = rf4.predict(test_vectors)\n",
    "score4 = sklearn.metrics.f1_score(newsgroups_test.target,\n",
    "                                  pred, average='binary')"
   ]
  },
  {
   "cell_type": "code",
   "execution_count": 21,
   "metadata": {},
   "outputs": [
    {
     "name": "stdout",
     "output_type": "stream",
     "text": [
      "Score of decision tree 0.80970625798212\n"
     ]
    }
   ],
   "source": [
    "if score4 > best:\n",
    "  best = score4\n",
    "  clf = \"Decision tree\"\n",
    "  print(\"Decision tree has achieved the top score!\", score4)\n",
    "else:\n",
    "  print(\"Score of decision tree\", score4)"
   ]
  },
  {
   "cell_type": "code",
   "execution_count": 22,
   "metadata": {},
   "outputs": [
    {
     "name": "stdout",
     "output_type": "stream",
     "text": [
      "Extra trees has achieved the top score! 0.9402390438247012\n"
     ]
    }
   ],
   "source": [
    "# @title AutoML experiment: Extra trees\n",
    "rf5 = ExtraTreesClassifier(n_estimators=500, random_state=1)\n",
    "rf5.fit(train_vectors, newsgroups_train.target)\n",
    "pred = rf5.predict(test_vectors)\n",
    "score5 = sklearn.metrics.f1_score(newsgroups_test.target,\n",
    "                                  pred, average='binary')\n",
    "if score5 > best:\n",
    "  best = score5\n",
    "  clf = \"Extra trees\"\n",
    "  print(\"Extra trees has achieved the top score!\", score5)\n",
    "else:\n",
    "  print(\"Score of extra trees\", score5)"
   ]
  },
  {
   "cell_type": "code",
   "execution_count": 24,
   "metadata": {},
   "outputs": [
    {
     "name": "stdout",
     "output_type": "stream",
     "text": [
      "The best model is Extra trees with a score of: 0.94024\n",
      "Scores:\n",
      "Random forest         : 0.92573\n",
      "Bagging               : 0.64384\n",
      "Gradient boosting     : 0.90095\n",
      "Decision tree         : 0.80971\n",
      "Extra trees           : 0.94024\n"
     ]
    }
   ],
   "source": [
    "# @title AutoML experiment: Summary\n",
    "print(\"The best model is\", clf, \"with a score of:\", round(best, 5))\n",
    "print(\"Scores:\")\n",
    "print(\"Random forest         :\", round(score1, 5))\n",
    "print(\"Bagging               :\", round(score2, 5))\n",
    "print(\"Gradient boosting     :\", round(score3, 5))\n",
    "print(\"Decision tree         :\", round(score4, 5))\n",
    "print(\"Extra trees           :\", round(score5, 5))"
   ]
  },
  {
   "cell_type": "code",
   "execution_count": 28,
   "metadata": {},
   "outputs": [],
   "source": [
    "# @title Activate the AutoML mode or\n",
    "# choose a classifier in the dropdown list\n",
    "AutoML = 'On' # @param [\"On\", \"Off\"]\n",
    "dropdown = 'Gradient boosting' # @param [\"Random forest\",\n",
    "                               #         \"Bagging\",\n",
    "                               #         \"Gradient boosting\",\n",
    "                               #         \"Decision tree\",\n",
    "                               #         \"Extra trees\"]\n",
    "if AutoML == \"On\":\n",
    "  dropdown = clf\n",
    "if clf == \"None\":\n",
    "  dropdown = \"Decision tree\"\n",
    "if dropdown == \"Random forest\":\n",
    "  rf = sklearn.ensemble.RandomForestClassifier(n_estimators=500)\n",
    "if dropdown == \"Bagging\":\n",
    "  rf = BaggingClassifier(KNeighborsClassifier(), n_estimators=500,\n",
    "                         max_samples=0.5, max_features=0.5)\n",
    "if dropdown == \"Gradient boosting\":\n",
    "  rf = GradientBoostingClassifier(random_state=1, n_estimators=500)\n",
    "if dropdown == \"Decision tree\":\n",
    "  rf = DecisionTreeClassifier(random_state=1)\n",
    "if dropdown == \"Extra trees\":\n",
    "  rf = ExtraTreesClassifier(random_state=1, n_estimators=500)"
   ]
  },
  {
   "cell_type": "code",
   "execution_count": 29,
   "metadata": {},
   "outputs": [
    {
     "data": {
      "text/plain": [
       "ExtraTreesClassifier(n_estimators=500, random_state=1)"
      ]
     },
     "execution_count": 29,
     "metadata": {},
     "output_type": "execute_result"
    }
   ],
   "source": [
    "rf.fit(train_vectors, newsgroups_train.target)"
   ]
  },
  {
   "cell_type": "code",
   "execution_count": 30,
   "metadata": {},
   "outputs": [
    {
     "data": {
      "text/plain": [
       "0.9402390438247012"
      ]
     },
     "execution_count": 30,
     "metadata": {},
     "output_type": "execute_result"
    }
   ],
   "source": [
    "# @title Prediction metrics\n",
    "pred = rf.predict(test_vectors)\n",
    "sklearn.metrics.f1_score(newsgroups_test.target,\n",
    "                         pred, average='binary')"
   ]
  },
  {
   "cell_type": "code",
   "execution_count": null,
   "metadata": {},
   "outputs": [],
   "source": []
  }
 ],
 "metadata": {
  "kernelspec": {
   "display_name": "Python 3",
   "language": "python",
   "name": "python3"
  },
  "language_info": {
   "codemirror_mode": {
    "name": "ipython",
    "version": 3
   },
   "file_extension": ".py",
   "mimetype": "text/x-python",
   "name": "python",
   "nbconvert_exporter": "python",
   "pygments_lexer": "ipython3",
   "version": "3.7.9"
  }
 },
 "nbformat": 4,
 "nbformat_minor": 4
}
